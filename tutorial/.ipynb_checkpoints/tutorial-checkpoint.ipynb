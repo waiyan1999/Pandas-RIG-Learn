{
 "cells": [
  {
   "cell_type": "code",
   "execution_count": 3,
   "id": "754f10e2-e218-40b1-b83c-bf2ca7124a0c",
   "metadata": {},
   "outputs": [
    {
     "name": "stdout",
     "output_type": "stream",
     "text": [
      "       First Name Last Name Dept\n",
      "count          37        37   37\n",
      "unique         35        35    6\n",
      "top          Mark     Smith   AT\n",
      "freq            2         2    8\n"
     ]
    }
   ],
   "source": [
    "    import pandas as pd\n",
    "excel_data = pd.read_excel(r\"C:\\Users\\WYTM\\Desktop\\RIG Intern\\20250608\\Pandas-RIG-Learn\\tutorial\\abc.xlsx\")\n",
    "df3 = pd.DataFrame(excel_data[['First Name','Last Name','Dept']])\n",
    "\n",
    "print(df3.describe())"
   ]
  },
  {
   "cell_type": "code",
   "execution_count": 4,
   "id": "6ca97d03-ea80-47d4-8ab9-4b8fce016cee",
   "metadata": {},
   "outputs": [
    {
     "name": "stdout",
     "output_type": "stream",
     "text": [
      "       First Name Last Name Dept\n",
      "count          37        37   37\n",
      "unique         35        35    6\n",
      "top          Mark     Smith   AT\n",
      "freq            2         2    8\n"
     ]
    }
   ],
   "source": [
    "import pandas as pd\n",
    "excel_data = pd.read_excel(r\"C:\\Users\\WYTM\\Desktop\\RIG Intern\\20250608\\Pandas-RIG-Learn\\tutorial\\abc.xlsx\")\n",
    "df3 = pd.DataFrame(excel_data[['First Name','Last Name','Dept']])\n",
    "\n",
    "print(df3.describe())"
   ]
  },
  {
   "cell_type": "code",
   "execution_count": null,
   "id": "0cd02418-dc2a-438f-84cb-6ee99304688a",
   "metadata": {},
   "outputs": [],
   "source": []
  },
  {
   "cell_type": "code",
   "execution_count": null,
   "id": "2202de1f-59d6-4d80-8c7d-2374f3c972fb",
   "metadata": {},
   "outputs": [],
   "source": []
  }
 ],
 "metadata": {
  "kernelspec": {
   "display_name": "Python 3 (ipykernel)",
   "language": "python",
   "name": "python3"
  },
  "language_info": {
   "codemirror_mode": {
    "name": "ipython",
    "version": 3
   },
   "file_extension": ".py",
   "mimetype": "text/x-python",
   "name": "python",
   "nbconvert_exporter": "python",
   "pygments_lexer": "ipython3",
   "version": "3.10.11"
  }
 },
 "nbformat": 4,
 "nbformat_minor": 5
}
