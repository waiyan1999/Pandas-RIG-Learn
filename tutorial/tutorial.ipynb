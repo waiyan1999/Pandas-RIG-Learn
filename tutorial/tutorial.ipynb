{
 "cells": [
  {
   "cell_type": "code",
   "execution_count": 3,
   "id": "754f10e2-e218-40b1-b83c-bf2ca7124a0c",
   "metadata": {},
   "outputs": [
    {
     "name": "stdout",
     "output_type": "stream",
     "text": [
      "       First Name Last Name Dept\n",
      "count          37        37   37\n",
      "unique         35        35    6\n",
      "top          Mark     Smith   AT\n",
      "freq            2         2    8\n"
     ]
    }
   ],
   "source": [
    "    import pandas as pd\n",
    "excel_data = pd.read_excel(r\"C:\\Users\\WYTM\\Desktop\\RIG Intern\\20250608\\Pandas-RIG-Learn\\tutorial\\abc.xlsx\")\n",
    "df3 = pd.DataFrame(excel_data[['First Name','Last Name','Dept']])\n",
    "\n",
    "print(df3.describe())"
   ]
  },
  {
   "cell_type": "code",
   "execution_count": 4,
   "id": "6ca97d03-ea80-47d4-8ab9-4b8fce016cee",
   "metadata": {},
   "outputs": [
    {
     "name": "stdout",
     "output_type": "stream",
     "text": [
      "       First Name Last Name Dept\n",
      "count          37        37   37\n",
      "unique         35        35    6\n",
      "top          Mark     Smith   AT\n",
      "freq            2         2    8\n"
     ]
    }
   ],
   "source": [
    "import pandas as pd\n",
    "excel_data = pd.read_excel(r\"C:\\Users\\WYTM\\Desktop\\RIG Intern\\20250608\\Pandas-RIG-Learn\\tutorial\\abc.xlsx\")\n",
    "df3 = pd.DataFrame(excel_data[['First Name','Last Name','Dept']])\n",
    "\n",
    "print(df3.describe())"
   ]
  },
  {
   "cell_type": "code",
   "execution_count": 5,
   "id": "0cd02418-dc2a-438f-84cb-6ee99304688a",
   "metadata": {},
   "outputs": [
    {
     "name": "stdout",
     "output_type": "stream",
     "text": [
      "Requirement already satisfied: pandas in c:\\users\\wytm\\desktop\\rig intern\\20250608\\pandas-rig-learn\\ven\\lib\\site-packages (2.3.0)\n",
      "Requirement already satisfied: numpy>=1.22.4 in c:\\users\\wytm\\desktop\\rig intern\\20250608\\pandas-rig-learn\\ven\\lib\\site-packages (from pandas) (2.2.6)\n",
      "Requirement already satisfied: python-dateutil>=2.8.2 in c:\\users\\wytm\\desktop\\rig intern\\20250608\\pandas-rig-learn\\ven\\lib\\site-packages (from pandas) (2.9.0.post0)\n",
      "Requirement already satisfied: pytz>=2020.1 in c:\\users\\wytm\\desktop\\rig intern\\20250608\\pandas-rig-learn\\ven\\lib\\site-packages (from pandas) (2025.2)\n",
      "Requirement already satisfied: tzdata>=2022.7 in c:\\users\\wytm\\desktop\\rig intern\\20250608\\pandas-rig-learn\\ven\\lib\\site-packages (from pandas) (2025.2)\n",
      "Requirement already satisfied: six>=1.5 in c:\\users\\wytm\\desktop\\rig intern\\20250608\\pandas-rig-learn\\ven\\lib\\site-packages (from python-dateutil>=2.8.2->pandas) (1.17.0)\n"
     ]
    },
    {
     "name": "stderr",
     "output_type": "stream",
     "text": [
      "\n",
      "[notice] A new release of pip is available: 23.0.1 -> 25.1.1\n",
      "[notice] To update, run: python.exe -m pip install --upgrade pip\n"
     ]
    }
   ],
   "source": [
    "!pip install pandas"
   ]
  },
  {
   "cell_type": "code",
   "execution_count": 7,
   "id": "4a782214-2e12-4c1f-b0ef-abd23003c86c",
   "metadata": {},
   "outputs": [
    {
     "name": "stderr",
     "output_type": "stream",
     "text": [
      "ERROR: Could not find a version that satisfies the requirement padas (from versions: none)\n",
      "ERROR: No matching distribution found for padas\n",
      "\n",
      "[notice] A new release of pip is available: 23.0.1 -> 25.1.1\n",
      "[notice] To update, run: python.exe -m pip install --upgrade pip\n"
     ]
    },
    {
     "name": "stdout",
     "output_type": "stream",
     "text": [
      "Requirement already satisfied: openpyxl in c:\\users\\wytm\\desktop\\rig intern\\20250608\\pandas-rig-learn\\ven\\lib\\site-packages (3.1.5)\n",
      "Requirement already satisfied: et-xmlfile in c:\\users\\wytm\\desktop\\rig intern\\20250608\\pandas-rig-learn\\ven\\lib\\site-packages (from openpyxl) (2.0.0)\n",
      "    Emp ID    Last Name First Name Dept     E-mail  Phone Ext    Location  \\\n",
      "0     1054        Smith     Howard   AT    howards        148  Building 1   \n",
      "1     1056     Gonzales        Joe   AT       joeg        121  Building 1   \n",
      "2     1067        Scote       Gail   AT      gails        123  Building 1   \n",
      "3     1075         Kane     Sheryl   AD    sherylk        126  Building 2   \n",
      "4     1078     Hapsbuch   Kendrick   AC  kendrickh        101  Building 2   \n",
      "5     1152      Henders       Mark   AD      markh        118  Building 2   \n",
      "6     1196     Atherton      Katie   HR     katiea        289  Building 3   \n",
      "7     1284     Bellwood      Frank   MK     frankb        124  Building 1   \n",
      "8     1290       Cooper      Linda   AD     lindac        113  Building 2   \n",
      "9     1293     Cronwith      Brent   HR     brentc        205  Building 3   \n",
      "10    1299      Simpson    Sandrae   MF   sandraes        127  Building 1   \n",
      "11    1302      Sindole      Randy   MK     randys        139  Building 1   \n",
      "12    1310        Smith      Ellen   MF     ellens        137  Building 1   \n",
      "13    1329       Vuanuo      Tuome   AC     tuomev        151  Building 2   \n",
      "14    1333     Szcznyck     Tadeuz   HR    tadeuzs        122  Building 3   \n",
      "15    1368           Wu      Tammy   AD     tammyw        132  Building 2   \n",
      "16    1509       Kegler        Pam   AT       pamk        135  Building 1   \n",
      "17    1516         Bell        Tom   AC       tomb        105  Building 2   \n",
      "18    1529    Kellerman     Tommie   MK       tomk        129  Building 1   \n",
      "19    1656      Kourios       Theo   MF      theok        149  Building 1   \n",
      "20    1672  Dixon-Waite    Sherrie   MF   sherried        114  Building 1   \n",
      "21    1673     Boughton      Frank   AD  fboughton        112  Building 2   \n",
      "22    1676       Miller      Janet   MK     janetm        115  Building 1   \n",
      "23    1721      Alstain     Isolde   HR    isoldea        102  Building 3   \n",
      "24    1723      Sammler       Mark   MK      marks        145  Building 1   \n",
      "25    1758       Brwyne      Melia   AC     meliab        107  Building 2   \n",
      "26    1792       Barton     Eileen   AT    eileenb        111  Building 1   \n",
      "27    1814     Al-Sabah      Daoud   HR     daouda        103  Building 3   \n",
      "28    1908       Zostoc    Melissa   AT   melissaz        152  Building 1   \n",
      "29    1931      Mueller     Ursula   AC    ursulam        110  Building 2   \n",
      "30    1960     Fontaine       Jean   MF      jeanf        150  Building 1   \n",
      "31    1964      Corwick        Rob   AC    robertc        108  Building 2   \n",
      "32    1975     Franklin      Larry   AC     larryf        125  Building 2   \n",
      "33    1983      Corwick       Judy   AT      judyc        154  Building 1   \n",
      "34    1990        Chang    Jessica   MF      jessc        198  Building 1   \n",
      "35    1995      Mivelli      Maria   AT     mariam        198  Building 1   \n",
      "36    1999      Atherly  Katherine   HR     kathya        428  Building 3   \n",
      "\n",
      "    Hire Date   Pay Rate  \n",
      "0  2014-04-13  23.112683  \n",
      "1  2002-10-22  34.525389  \n",
      "2  2010-09-17  22.187985  \n",
      "3  2015-08-05  22.650787  \n",
      "4  2009-03-29  35.093078  \n",
      "5  2013-01-18  20.450481  \n",
      "6  2021-03-29  21.116426  \n",
      "7  2008-01-02  31.521434  \n",
      "8  2008-01-01  26.263291  \n",
      "9  2007-09-12  34.790615  \n",
      "10 2012-12-18  36.358152  \n",
      "11 2007-08-04  31.941259  \n",
      "12 2009-10-01  27.748133  \n",
      "13 2012-02-20  30.059454  \n",
      "14 2013-04-13  28.040146  \n",
      "15 2006-03-08  21.582317  \n",
      "16 2008-06-16  28.504921  \n",
      "17 2008-03-03  25.041610  \n",
      "18 2010-01-25  36.760473  \n",
      "19 2010-12-11  34.594861  \n",
      "20 2013-04-13  21.821068  \n",
      "21 2015-03-23  34.737714  \n",
      "22 2004-10-23  23.923733  \n",
      "23 2013-08-03  30.530482  \n",
      "24 2001-02-07  30.633823  \n",
      "25 2005-03-15  23.323202  \n",
      "26 2013-12-21  22.865283  \n",
      "27 2012-03-01  28.314886  \n",
      "28 2007-05-13  21.583298  \n",
      "29 2012-06-17  22.096372  \n",
      "30 2009-11-10  24.110587  \n",
      "31 2014-11-14  32.746626  \n",
      "32 2019-02-27  20.224401  \n",
      "33 2020-06-25  26.320559  \n",
      "34 2021-02-11  27.176260  \n",
      "35 2021-02-26  27.273206  \n",
      "36 2021-07-02  20.275620  \n"
     ]
    },
    {
     "name": "stderr",
     "output_type": "stream",
     "text": [
      "\n",
      "[notice] A new release of pip is available: 23.0.1 -> 25.1.1\n",
      "[notice] To update, run: python.exe -m pip install --upgrade pip\n"
     ]
    }
   ],
   "source": [
    "!pip install padas\n",
    "!pip install openpyxl\n",
    "\n",
    "import pandas as pd\n",
    "\n",
    "excel_data = pd.read_excel(r\"C:\\Users\\WYTM\\Desktop\\RIG Intern\\20250608\\Pandas-RIG-Learn\\tutorial\\abc.xlsx\")\n",
    "print(excel_data)\n",
    "\n"
   ]
  },
  {
   "cell_type": "code",
   "execution_count": 8,
   "id": "77e682df-a949-485d-9fcd-a5382f664487",
   "metadata": {},
   "outputs": [
    {
     "ename": "AttributeError",
     "evalue": "'DataFrame' object has no attribute 'sort_vlues'",
     "output_type": "error",
     "traceback": [
      "\u001b[1;31m---------------------------------------------------------------------------\u001b[0m",
      "\u001b[1;31mAttributeError\u001b[0m                            Traceback (most recent call last)",
      "\u001b[1;32m~\\AppData\\Local\\Temp\\ipykernel_13852\\2987539589.py\u001b[0m in \u001b[0;36m?\u001b[1;34m()\u001b[0m\n\u001b[1;32m----> 1\u001b[1;33m \u001b[0mprint\u001b[0m\u001b[1;33m(\u001b[0m\u001b[0mdf3\u001b[0m\u001b[1;33m.\u001b[0m\u001b[0msort_vlues\u001b[0m\u001b[1;33m(\u001b[0m\u001b[1;34m'First Name'\u001b[0m\u001b[1;33m)\u001b[0m\u001b[1;33m)\u001b[0m\u001b[1;33m\u001b[0m\u001b[1;33m\u001b[0m\u001b[0m\n\u001b[0m",
      "\u001b[1;32m~\\Desktop\\RIG Intern\\20250608\\Pandas-RIG-Learn\\ven\\lib\\site-packages\\pandas\\core\\generic.py\u001b[0m in \u001b[0;36m?\u001b[1;34m(self, name)\u001b[0m\n\u001b[0;32m   6314\u001b[0m             \u001b[1;32mand\u001b[0m \u001b[0mname\u001b[0m \u001b[1;32mnot\u001b[0m \u001b[1;32min\u001b[0m \u001b[0mself\u001b[0m\u001b[1;33m.\u001b[0m\u001b[0m_accessors\u001b[0m\u001b[1;33m\u001b[0m\u001b[1;33m\u001b[0m\u001b[0m\n\u001b[0;32m   6315\u001b[0m             \u001b[1;32mand\u001b[0m \u001b[0mself\u001b[0m\u001b[1;33m.\u001b[0m\u001b[0m_info_axis\u001b[0m\u001b[1;33m.\u001b[0m\u001b[0m_can_hold_identifiers_and_holds_name\u001b[0m\u001b[1;33m(\u001b[0m\u001b[0mname\u001b[0m\u001b[1;33m)\u001b[0m\u001b[1;33m\u001b[0m\u001b[1;33m\u001b[0m\u001b[0m\n\u001b[0;32m   6316\u001b[0m         ):\n\u001b[0;32m   6317\u001b[0m             \u001b[1;32mreturn\u001b[0m \u001b[0mself\u001b[0m\u001b[1;33m[\u001b[0m\u001b[0mname\u001b[0m\u001b[1;33m]\u001b[0m\u001b[1;33m\u001b[0m\u001b[1;33m\u001b[0m\u001b[0m\n\u001b[1;32m-> 6318\u001b[1;33m         \u001b[1;32mreturn\u001b[0m \u001b[0mobject\u001b[0m\u001b[1;33m.\u001b[0m\u001b[0m__getattribute__\u001b[0m\u001b[1;33m(\u001b[0m\u001b[0mself\u001b[0m\u001b[1;33m,\u001b[0m \u001b[0mname\u001b[0m\u001b[1;33m)\u001b[0m\u001b[1;33m\u001b[0m\u001b[1;33m\u001b[0m\u001b[0m\n\u001b[0m",
      "\u001b[1;31mAttributeError\u001b[0m: 'DataFrame' object has no attribute 'sort_vlues'"
     ]
    }
   ],
   "source": [
    "print(df3.sort_vlues('First Name'))"
   ]
  },
  {
   "cell_type": "code",
   "execution_count": 16,
   "id": "4774d298-e71c-4bfc-b25e-58fdcf3b9130",
   "metadata": {},
   "outputs": [
    {
     "ename": "AttributeError",
     "evalue": "'DataFrame' object has no attribute 'sortz_values'",
     "output_type": "error",
     "traceback": [
      "\u001b[1;31m---------------------------------------------------------------------------\u001b[0m",
      "\u001b[1;31mAttributeError\u001b[0m                            Traceback (most recent call last)",
      "\u001b[1;32m~\\AppData\\Local\\Temp\\ipykernel_13852\\19338422.py\u001b[0m in \u001b[0;36m?\u001b[1;34m()\u001b[0m\n\u001b[1;32m----> 1\u001b[1;33m \u001b[0mprint\u001b[0m\u001b[1;33m(\u001b[0m\u001b[0mdf3\u001b[0m\u001b[1;33m.\u001b[0m\u001b[0msortz_values\u001b[0m\u001b[1;33m(\u001b[0m\u001b[0mby\u001b[0m\u001b[1;33m=\u001b[0m\u001b[1;33m[\u001b[0m\u001b[1;34m'Dept'\u001b[0m\u001b[1;33m]\u001b[0m\u001b[1;33m)\u001b[0m\u001b[1;33m)\u001b[0m\u001b[1;33m\u001b[0m\u001b[1;33m\u001b[0m\u001b[0m\n\u001b[0m",
      "\u001b[1;32m~\\Desktop\\RIG Intern\\20250608\\Pandas-RIG-Learn\\ven\\lib\\site-packages\\pandas\\core\\generic.py\u001b[0m in \u001b[0;36m?\u001b[1;34m(self, name)\u001b[0m\n\u001b[0;32m   6314\u001b[0m             \u001b[1;32mand\u001b[0m \u001b[0mname\u001b[0m \u001b[1;32mnot\u001b[0m \u001b[1;32min\u001b[0m \u001b[0mself\u001b[0m\u001b[1;33m.\u001b[0m\u001b[0m_accessors\u001b[0m\u001b[1;33m\u001b[0m\u001b[1;33m\u001b[0m\u001b[0m\n\u001b[0;32m   6315\u001b[0m             \u001b[1;32mand\u001b[0m \u001b[0mself\u001b[0m\u001b[1;33m.\u001b[0m\u001b[0m_info_axis\u001b[0m\u001b[1;33m.\u001b[0m\u001b[0m_can_hold_identifiers_and_holds_name\u001b[0m\u001b[1;33m(\u001b[0m\u001b[0mname\u001b[0m\u001b[1;33m)\u001b[0m\u001b[1;33m\u001b[0m\u001b[1;33m\u001b[0m\u001b[0m\n\u001b[0;32m   6316\u001b[0m         ):\n\u001b[0;32m   6317\u001b[0m             \u001b[1;32mreturn\u001b[0m \u001b[0mself\u001b[0m\u001b[1;33m[\u001b[0m\u001b[0mname\u001b[0m\u001b[1;33m]\u001b[0m\u001b[1;33m\u001b[0m\u001b[1;33m\u001b[0m\u001b[0m\n\u001b[1;32m-> 6318\u001b[1;33m         \u001b[1;32mreturn\u001b[0m \u001b[0mobject\u001b[0m\u001b[1;33m.\u001b[0m\u001b[0m__getattribute__\u001b[0m\u001b[1;33m(\u001b[0m\u001b[0mself\u001b[0m\u001b[1;33m,\u001b[0m \u001b[0mname\u001b[0m\u001b[1;33m)\u001b[0m\u001b[1;33m\u001b[0m\u001b[1;33m\u001b[0m\u001b[0m\n\u001b[0m",
      "\u001b[1;31mAttributeError\u001b[0m: 'DataFrame' object has no attribute 'sortz_values'"
     ]
    }
   ],
   "source": [
    "print(df3.sortz_values(by=['Dept']))"
   ]
  },
  {
   "cell_type": "code",
   "execution_count": null,
   "id": "353397df-9f4b-4dc4-80ff-8c457ed77da5",
   "metadata": {},
   "outputs": [],
   "source": []
  },
  {
   "cell_type": "code",
   "execution_count": 15,
   "id": "1e9482ff-b6b7-4212-ae05-ad20e859a966",
   "metadata": {},
   "outputs": [
    {
     "name": "stdout",
     "output_type": "stream",
     "text": [
      "   First Name    Last Name Dept\n",
      "0      Howard        Smith   AT\n",
      "1         Joe     Gonzales   AT\n",
      "2        Gail        Scote   AT\n",
      "3      Sheryl         Kane   AD\n",
      "4    Kendrick     Hapsbuch   AC\n",
      "5        Mark      Henders   AD\n",
      "6       Katie     Atherton   HR\n",
      "7       Frank     Bellwood   MK\n",
      "8       Linda       Cooper   AD\n",
      "9       Brent     Cronwith   HR\n",
      "10    Sandrae      Simpson   MF\n",
      "11      Randy      Sindole   MK\n",
      "12      Ellen        Smith   MF\n",
      "13      Tuome       Vuanuo   AC\n",
      "14     Tadeuz     Szcznyck   HR\n",
      "15      Tammy           Wu   AD\n",
      "16        Pam       Kegler   AT\n",
      "17        Tom         Bell   AC\n",
      "18     Tommie    Kellerman   MK\n",
      "19       Theo      Kourios   MF\n",
      "20    Sherrie  Dixon-Waite   MF\n",
      "21      Frank     Boughton   AD\n",
      "22      Janet       Miller   MK\n",
      "23     Isolde      Alstain   HR\n",
      "24       Mark      Sammler   MK\n",
      "25      Melia       Brwyne   AC\n",
      "26     Eileen       Barton   AT\n",
      "27      Daoud     Al-Sabah   HR\n",
      "28    Melissa       Zostoc   AT\n",
      "29     Ursula      Mueller   AC\n",
      "30       Jean     Fontaine   MF\n",
      "31        Rob      Corwick   AC\n",
      "32      Larry     Franklin   AC\n",
      "33       Judy      Corwick   AT\n",
      "34    Jessica        Chang   MF\n",
      "35      Maria      Mivelli   AT\n",
      "36  Katherine      Atherly   HR\n"
     ]
    }
   ],
   "source": [
    "print(df3)"
   ]
  },
  {
   "cell_type": "code",
   "execution_count": 18,
   "id": "71378fdd-9a99-4c5b-b5be-bc8bcb4821c8",
   "metadata": {},
   "outputs": [
    {
     "name": "stdout",
     "output_type": "stream",
     "text": [
      "    Emp ID    Last Name First Name Dept     E-mail  Phone Ext    Location  \\\n",
      "0     1054        Smith     Howard   AT    howards        148  Building 1   \n",
      "1     1056     Gonzales        Joe   AT       joeg        121  Building 1   \n",
      "2     1067        Scote       Gail   AT      gails        123  Building 1   \n",
      "3     1075         Kane     Sheryl   AD    sherylk        126  Building 2   \n",
      "4     1078     Hapsbuch   Kendrick   AC  kendrickh        101  Building 2   \n",
      "5     1152      Henders       Mark   AD      markh        118  Building 2   \n",
      "6     1196     Atherton      Katie   HR     katiea        289  Building 3   \n",
      "7     1284     Bellwood      Frank   MK     frankb        124  Building 1   \n",
      "8     1290       Cooper      Linda   AD     lindac        113  Building 2   \n",
      "9     1293     Cronwith      Brent   HR     brentc        205  Building 3   \n",
      "10    1299      Simpson    Sandrae   MF   sandraes        127  Building 1   \n",
      "11    1302      Sindole      Randy   MK     randys        139  Building 1   \n",
      "12    1310        Smith      Ellen   MF     ellens        137  Building 1   \n",
      "13    1329       Vuanuo      Tuome   AC     tuomev        151  Building 2   \n",
      "14    1333     Szcznyck     Tadeuz   HR    tadeuzs        122  Building 3   \n",
      "15    1368           Wu      Tammy   AD     tammyw        132  Building 2   \n",
      "16    1509       Kegler        Pam   AT       pamk        135  Building 1   \n",
      "17    1516         Bell        Tom   AC       tomb        105  Building 2   \n",
      "18    1529    Kellerman     Tommie   MK       tomk        129  Building 1   \n",
      "19    1656      Kourios       Theo   MF      theok        149  Building 1   \n",
      "20    1672  Dixon-Waite    Sherrie   MF   sherried        114  Building 1   \n",
      "21    1673     Boughton      Frank   AD  fboughton        112  Building 2   \n",
      "22    1676       Miller      Janet   MK     janetm        115  Building 1   \n",
      "23    1721      Alstain     Isolde   HR    isoldea        102  Building 3   \n",
      "24    1723      Sammler       Mark   MK      marks        145  Building 1   \n",
      "25    1758       Brwyne      Melia   AC     meliab        107  Building 2   \n",
      "26    1792       Barton     Eileen   AT    eileenb        111  Building 1   \n",
      "27    1814     Al-Sabah      Daoud   HR     daouda        103  Building 3   \n",
      "28    1908       Zostoc    Melissa   AT   melissaz        152  Building 1   \n",
      "29    1931      Mueller     Ursula   AC    ursulam        110  Building 2   \n",
      "30    1960     Fontaine       Jean   MF      jeanf        150  Building 1   \n",
      "31    1964      Corwick        Rob   AC    robertc        108  Building 2   \n",
      "32    1975     Franklin      Larry   AC     larryf        125  Building 2   \n",
      "33    1983      Corwick       Judy   AT      judyc        154  Building 1   \n",
      "34    1990        Chang    Jessica   MF      jessc        198  Building 1   \n",
      "35    1995      Mivelli      Maria   AT     mariam        198  Building 1   \n",
      "36    1999      Atherly  Katherine   HR     kathya        428  Building 3   \n",
      "\n",
      "    Hire Date   Pay Rate  \n",
      "0  2014-04-13  23.112683  \n",
      "1  2002-10-22  34.525389  \n",
      "2  2010-09-17  22.187985  \n",
      "3  2015-08-05  22.650787  \n",
      "4  2009-03-29  35.093078  \n",
      "5  2013-01-18  20.450481  \n",
      "6  2021-03-29  21.116426  \n",
      "7  2008-01-02  31.521434  \n",
      "8  2008-01-01  26.263291  \n",
      "9  2007-09-12  34.790615  \n",
      "10 2012-12-18  36.358152  \n",
      "11 2007-08-04  31.941259  \n",
      "12 2009-10-01  27.748133  \n",
      "13 2012-02-20  30.059454  \n",
      "14 2013-04-13  28.040146  \n",
      "15 2006-03-08  21.582317  \n",
      "16 2008-06-16  28.504921  \n",
      "17 2008-03-03  25.041610  \n",
      "18 2010-01-25  36.760473  \n",
      "19 2010-12-11  34.594861  \n",
      "20 2013-04-13  21.821068  \n",
      "21 2015-03-23  34.737714  \n",
      "22 2004-10-23  23.923733  \n",
      "23 2013-08-03  30.530482  \n",
      "24 2001-02-07  30.633823  \n",
      "25 2005-03-15  23.323202  \n",
      "26 2013-12-21  22.865283  \n",
      "27 2012-03-01  28.314886  \n",
      "28 2007-05-13  21.583298  \n",
      "29 2012-06-17  22.096372  \n",
      "30 2009-11-10  24.110587  \n",
      "31 2014-11-14  32.746626  \n",
      "32 2019-02-27  20.224401  \n",
      "33 2020-06-25  26.320559  \n",
      "34 2021-02-11  27.176260  \n",
      "35 2021-02-26  27.273206  \n",
      "36 2021-07-02  20.275620  \n"
     ]
    }
   ],
   "source": [
    "print(excel_data)\n"
   ]
  },
  {
   "cell_type": "code",
   "execution_count": 19,
   "id": "4642b5c8-f2c1-4318-8ca7-37a50e79efca",
   "metadata": {},
   "outputs": [
    {
     "name": "stdout",
     "output_type": "stream",
     "text": [
      "    Emp ID    Last Name First Name Dept     E-mail  Phone Ext    Location  \\\n",
      "0     1054        Smith     Howard   AT    howards        148  Building 1   \n",
      "1     1056     Gonzales        Joe   AT       joeg        121  Building 1   \n",
      "2     1067        Scote       Gail   AT      gails        123  Building 1   \n",
      "3     1075         Kane     Sheryl   AD    sherylk        126  Building 2   \n",
      "4     1078     Hapsbuch   Kendrick   AC  kendrickh        101  Building 2   \n",
      "5     1152      Henders       Mark   AD      markh        118  Building 2   \n",
      "6     1196     Atherton      Katie   HR     katiea        289  Building 3   \n",
      "7     1284     Bellwood      Frank   MK     frankb        124  Building 1   \n",
      "8     1290       Cooper      Linda   AD     lindac        113  Building 2   \n",
      "9     1293     Cronwith      Brent   HR     brentc        205  Building 3   \n",
      "10    1299      Simpson    Sandrae   MF   sandraes        127  Building 1   \n",
      "11    1302      Sindole      Randy   MK     randys        139  Building 1   \n",
      "12    1310        Smith      Ellen   MF     ellens        137  Building 1   \n",
      "13    1329       Vuanuo      Tuome   AC     tuomev        151  Building 2   \n",
      "14    1333     Szcznyck     Tadeuz   HR    tadeuzs        122  Building 3   \n",
      "15    1368           Wu      Tammy   AD     tammyw        132  Building 2   \n",
      "16    1509       Kegler        Pam   AT       pamk        135  Building 1   \n",
      "17    1516         Bell        Tom   AC       tomb        105  Building 2   \n",
      "18    1529    Kellerman     Tommie   MK       tomk        129  Building 1   \n",
      "19    1656      Kourios       Theo   MF      theok        149  Building 1   \n",
      "20    1672  Dixon-Waite    Sherrie   MF   sherried        114  Building 1   \n",
      "21    1673     Boughton      Frank   AD  fboughton        112  Building 2   \n",
      "22    1676       Miller      Janet   MK     janetm        115  Building 1   \n",
      "23    1721      Alstain     Isolde   HR    isoldea        102  Building 3   \n",
      "24    1723      Sammler       Mark   MK      marks        145  Building 1   \n",
      "25    1758       Brwyne      Melia   AC     meliab        107  Building 2   \n",
      "26    1792       Barton     Eileen   AT    eileenb        111  Building 1   \n",
      "27    1814     Al-Sabah      Daoud   HR     daouda        103  Building 3   \n",
      "28    1908       Zostoc    Melissa   AT   melissaz        152  Building 1   \n",
      "29    1931      Mueller     Ursula   AC    ursulam        110  Building 2   \n",
      "30    1960     Fontaine       Jean   MF      jeanf        150  Building 1   \n",
      "31    1964      Corwick        Rob   AC    robertc        108  Building 2   \n",
      "32    1975     Franklin      Larry   AC     larryf        125  Building 2   \n",
      "33    1983      Corwick       Judy   AT      judyc        154  Building 1   \n",
      "34    1990        Chang    Jessica   MF      jessc        198  Building 1   \n",
      "35    1995      Mivelli      Maria   AT     mariam        198  Building 1   \n",
      "36    1999      Atherly  Katherine   HR     kathya        428  Building 3   \n",
      "\n",
      "    Hire Date   Pay Rate  \n",
      "0  2014-04-13  23.112683  \n",
      "1  2002-10-22  34.525389  \n",
      "2  2010-09-17  22.187985  \n",
      "3  2015-08-05  22.650787  \n",
      "4  2009-03-29  35.093078  \n",
      "5  2013-01-18  20.450481  \n",
      "6  2021-03-29  21.116426  \n",
      "7  2008-01-02  31.521434  \n",
      "8  2008-01-01  26.263291  \n",
      "9  2007-09-12  34.790615  \n",
      "10 2012-12-18  36.358152  \n",
      "11 2007-08-04  31.941259  \n",
      "12 2009-10-01  27.748133  \n",
      "13 2012-02-20  30.059454  \n",
      "14 2013-04-13  28.040146  \n",
      "15 2006-03-08  21.582317  \n",
      "16 2008-06-16  28.504921  \n",
      "17 2008-03-03  25.041610  \n",
      "18 2010-01-25  36.760473  \n",
      "19 2010-12-11  34.594861  \n",
      "20 2013-04-13  21.821068  \n",
      "21 2015-03-23  34.737714  \n",
      "22 2004-10-23  23.923733  \n",
      "23 2013-08-03  30.530482  \n",
      "24 2001-02-07  30.633823  \n",
      "25 2005-03-15  23.323202  \n",
      "26 2013-12-21  22.865283  \n",
      "27 2012-03-01  28.314886  \n",
      "28 2007-05-13  21.583298  \n",
      "29 2012-06-17  22.096372  \n",
      "30 2009-11-10  24.110587  \n",
      "31 2014-11-14  32.746626  \n",
      "32 2019-02-27  20.224401  \n",
      "33 2020-06-25  26.320559  \n",
      "34 2021-02-11  27.176260  \n",
      "35 2021-02-26  27.273206  \n",
      "36 2021-07-02  20.275620  \n"
     ]
    }
   ],
   "source": [
    "df4 = pd.DataFrame(excel_data)\n",
    "print(df4)\n"
   ]
  },
  {
   "cell_type": "code",
   "execution_count": 21,
   "id": "954f6dd0-ffd2-415c-a49a-308206d4cf39",
   "metadata": {},
   "outputs": [
    {
     "name": "stdout",
     "output_type": "stream",
     "text": [
      "    Emp ID    Last Name First Name Dept     E-mail  Phone Ext    Location  \\\n",
      "0     1054        Smith     Howard   AT    howards        148  Building 1   \n",
      "1     1056     Gonzales        Joe   AT       joeg        121  Building 1   \n",
      "2     1067        Scote       Gail   AT      gails        123  Building 1   \n",
      "3     1075         Kane     Sheryl   AD    sherylk        126  Building 2   \n",
      "4     1078     Hapsbuch   Kendrick   AC  kendrickh        101  Building 2   \n",
      "5     1152      Henders       Mark   AD      markh        118  Building 2   \n",
      "6     1196     Atherton      Katie   HR     katiea        289  Building 3   \n",
      "7     1284     Bellwood      Frank   MK     frankb        124  Building 1   \n",
      "8     1290       Cooper      Linda   AD     lindac        113  Building 2   \n",
      "9     1293     Cronwith      Brent   HR     brentc        205  Building 3   \n",
      "10    1299      Simpson    Sandrae   MF   sandraes        127  Building 1   \n",
      "11    1302      Sindole      Randy   MK     randys        139  Building 1   \n",
      "12    1310        Smith      Ellen   MF     ellens        137  Building 1   \n",
      "13    1329       Vuanuo      Tuome   AC     tuomev        151  Building 2   \n",
      "14    1333     Szcznyck     Tadeuz   HR    tadeuzs        122  Building 3   \n",
      "15    1368           Wu      Tammy   AD     tammyw        132  Building 2   \n",
      "16    1509       Kegler        Pam   AT       pamk        135  Building 1   \n",
      "17    1516         Bell        Tom   AC       tomb        105  Building 2   \n",
      "18    1529    Kellerman     Tommie   MK       tomk        129  Building 1   \n",
      "19    1656      Kourios       Theo   MF      theok        149  Building 1   \n",
      "20    1672  Dixon-Waite    Sherrie   MF   sherried        114  Building 1   \n",
      "21    1673     Boughton      Frank   AD  fboughton        112  Building 2   \n",
      "22    1676       Miller      Janet   MK     janetm        115  Building 1   \n",
      "23    1721      Alstain     Isolde   HR    isoldea        102  Building 3   \n",
      "24    1723      Sammler       Mark   MK      marks        145  Building 1   \n",
      "25    1758       Brwyne      Melia   AC     meliab        107  Building 2   \n",
      "26    1792       Barton     Eileen   AT    eileenb        111  Building 1   \n",
      "27    1814     Al-Sabah      Daoud   HR     daouda        103  Building 3   \n",
      "28    1908       Zostoc    Melissa   AT   melissaz        152  Building 1   \n",
      "29    1931      Mueller     Ursula   AC    ursulam        110  Building 2   \n",
      "30    1960     Fontaine       Jean   MF      jeanf        150  Building 1   \n",
      "31    1964      Corwick        Rob   AC    robertc        108  Building 2   \n",
      "32    1975     Franklin      Larry   AC     larryf        125  Building 2   \n",
      "33    1983      Corwick       Judy   AT      judyc        154  Building 1   \n",
      "34    1990        Chang    Jessica   MF      jessc        198  Building 1   \n",
      "35    1995      Mivelli      Maria   AT     mariam        198  Building 1   \n",
      "36    1999      Atherly  Katherine   HR     kathya        428  Building 3   \n",
      "\n",
      "    Hire Date   Pay Rate  \n",
      "0  2014-04-13  23.112683  \n",
      "1  2002-10-22  34.525389  \n",
      "2  2010-09-17  22.187985  \n",
      "3  2015-08-05  22.650787  \n",
      "4  2009-03-29  35.093078  \n",
      "5  2013-01-18  20.450481  \n",
      "6  2021-03-29  21.116426  \n",
      "7  2008-01-02  31.521434  \n",
      "8  2008-01-01  26.263291  \n",
      "9  2007-09-12  34.790615  \n",
      "10 2012-12-18  36.358152  \n",
      "11 2007-08-04  31.941259  \n",
      "12 2009-10-01  27.748133  \n",
      "13 2012-02-20  30.059454  \n",
      "14 2013-04-13  28.040146  \n",
      "15 2006-03-08  21.582317  \n",
      "16 2008-06-16  28.504921  \n",
      "17 2008-03-03  25.041610  \n",
      "18 2010-01-25  36.760473  \n",
      "19 2010-12-11  34.594861  \n",
      "20 2013-04-13  21.821068  \n",
      "21 2015-03-23  34.737714  \n",
      "22 2004-10-23  23.923733  \n",
      "23 2013-08-03  30.530482  \n",
      "24 2001-02-07  30.633823  \n",
      "25 2005-03-15  23.323202  \n",
      "26 2013-12-21  22.865283  \n",
      "27 2012-03-01  28.314886  \n",
      "28 2007-05-13  21.583298  \n",
      "29 2012-06-17  22.096372  \n",
      "30 2009-11-10  24.110587  \n",
      "31 2014-11-14  32.746626  \n",
      "32 2019-02-27  20.224401  \n",
      "33 2020-06-25  26.320559  \n",
      "34 2021-02-11  27.176260  \n",
      "35 2021-02-26  27.273206  \n",
      "36 2021-07-02  20.275620  \n"
     ]
    }
   ],
   "source": [
    "print(df4.sort_values(by=['Emp ID']))\n",
    "      "
   ]
  },
  {
   "cell_type": "code",
   "execution_count": null,
   "id": "85ad8985-0fdb-4df7-8347-a739d447c0ce",
   "metadata": {},
   "outputs": [],
   "source": [
    "print(df4.groupby(['Dept'])"
   ]
  },
  {
   "cell_type": "code",
   "execution_count": null,
   "id": "3d6772cd-9d4f-4613-9565-1c219a4ab06f",
   "metadata": {},
   "outputs": [],
   "source": []
  },
  {
   "cell_type": "code",
   "execution_count": null,
   "id": "53b138a9-89c3-42ed-a112-94a355d4fd0e",
   "metadata": {},
   "outputs": [],
   "source": []
  },
  {
   "cell_type": "code",
   "execution_count": null,
   "id": "92ddf2f8-7df5-400f-b813-80a70d765773",
   "metadata": {},
   "outputs": [],
   "source": []
  },
  {
   "cell_type": "code",
   "execution_count": null,
   "id": "d13b41b4-a460-4630-ad6c-17e168ff6415",
   "metadata": {},
   "outputs": [],
   "source": []
  },
  {
   "cell_type": "code",
   "execution_count": null,
   "id": "5b8d6ae4-1e4b-4f49-872d-fc1b961f2a40",
   "metadata": {},
   "outputs": [],
   "source": []
  },
  {
   "cell_type": "code",
   "execution_count": null,
   "id": "9716589d-66ed-4034-9cf8-1c744b271ce0",
   "metadata": {},
   "outputs": [],
   "source": []
  },
  {
   "cell_type": "code",
   "execution_count": null,
   "id": "a24c666a-47d2-4f6a-a5bd-a0d33b0fc3d4",
   "metadata": {},
   "outputs": [],
   "source": []
  },
  {
   "cell_type": "code",
   "execution_count": null,
   "id": "f32b2fd2-d4cb-4369-bac4-e20a308edac1",
   "metadata": {},
   "outputs": [],
   "source": []
  },
  {
   "cell_type": "code",
   "execution_count": null,
   "id": "2202de1f-59d6-4d80-8c7d-2374f3c972fb",
   "metadata": {},
   "outputs": [],
   "source": []
  }
 ],
 "metadata": {
  "kernelspec": {
   "display_name": "Python 3 (ipykernel)",
   "language": "python",
   "name": "python3"
  },
  "language_info": {
   "codemirror_mode": {
    "name": "ipython",
    "version": 3
   },
   "file_extension": ".py",
   "mimetype": "text/x-python",
   "name": "python",
   "nbconvert_exporter": "python",
   "pygments_lexer": "ipython3",
   "version": "3.10.11"
  }
 },
 "nbformat": 4,
 "nbformat_minor": 5
}
